{
  "nbformat": 4,
  "nbformat_minor": 0,
  "metadata": {
    "colab": {
      "name": "diabetes-svm.ipynb",
      "provenance": [],
      "collapsed_sections": [],
      "authorship_tag": "ABX9TyNtRlYY6DKTC0QvJHNwMDQo",
      "include_colab_link": true
    },
    "kernelspec": {
      "name": "python3",
      "display_name": "Python 3"
    }
  },
  "cells": [
    {
      "cell_type": "markdown",
      "metadata": {
        "id": "view-in-github",
        "colab_type": "text"
      },
      "source": [
        "<a href=\"https://colab.research.google.com/github/JuhiAmeta/Diabetes/blob/main/diabetes_svm.ipynb\" target=\"_parent\"><img src=\"https://colab.research.google.com/assets/colab-badge.svg\" alt=\"Open In Colab\"/></a>"
      ]
    },
    {
      "cell_type": "code",
      "metadata": {
        "id": "n0Un7556b8Xs",
        "colab": {
          "resources": {
            "http://localhost:8080/nbextensions/google.colab/files.js": {
              "data": "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",
              "ok": true,
              "headers": [
                [
                  "content-type",
                  "application/javascript"
                ]
              ],
              "status": 200,
              "status_text": ""
            }
          },
          "base_uri": "https://localhost:8080/",
          "height": 74
        },
        "outputId": "d8292c06-4bbc-4afa-d8ea-0fccac9c66be"
      },
      "source": [
        "from google.colab import files\n",
        "uploaded = files.upload()"
      ],
      "execution_count": null,
      "outputs": [
        {
          "output_type": "display_data",
          "data": {
            "text/plain": [
              "<IPython.core.display.HTML object>"
            ],
            "text/html": [
              "\n",
              "     <input type=\"file\" id=\"files-204864ff-0cd2-4e34-b870-9ab28478391d\" name=\"files[]\" multiple disabled\n",
              "        style=\"border:none\" />\n",
              "     <output id=\"result-204864ff-0cd2-4e34-b870-9ab28478391d\">\n",
              "      Upload widget is only available when the cell has been executed in the\n",
              "      current browser session. Please rerun this cell to enable.\n",
              "      </output>\n",
              "      <script src=\"/nbextensions/google.colab/files.js\"></script> "
            ]
          },
          "metadata": {}
        },
        {
          "output_type": "stream",
          "name": "stdout",
          "text": [
            "Saving dataset-collab.csv to dataset-collab.csv\n"
          ]
        }
      ]
    },
    {
      "cell_type": "markdown",
      "source": [
        "# New section"
      ],
      "metadata": {
        "id": "8wZfdBcY6ri6"
      }
    },
    {
      "cell_type": "code",
      "metadata": {
        "id": "o38559lJcaoz",
        "colab": {
          "base_uri": "https://localhost:8080/",
          "height": 206
        },
        "outputId": "030a2a73-4b30-4573-9de4-242ad604579f"
      },
      "source": [
        "import pandas as pd\n",
        "import re\n",
        "import nltk\n",
        "import string\n",
        "import numpy as np\n",
        "pd.options.mode.chained_assignment = None\n",
        "\n",
        "df = pd.read_csv(r\"../content/dataset-collab.csv\", encoding =\"latin-1\")\n",
        "\"\"\"df = full_df[[\"Text\",\"Title\"]]\"\"\"\n",
        "df[\"Text\"] = df[\"Text\"].astype(str)\n",
        "df[\"Title\"]= df[\"Title\"].astype(str)\n",
        "df['final'] = df['Title'].str.cat(df['Text'], sep =\" \") \n",
        "\n",
        "df.head()\n"
      ],
      "execution_count": null,
      "outputs": [
        {
          "output_type": "execute_result",
          "data": {
            "text/plain": [
              "                                               Title  \\\n",
              "0                          Obesity News and Research   \n",
              "1   Type 2 diabetes is much less serious than type 1   \n",
              "2   Type 2 diabetes is not always caused by lack ...   \n",
              "3                Vitamins and Minerals in Food Items   \n",
              "4  The Skinny on Unsaturated Fats: Why You Need T...   \n",
              "\n",
              "                                                Text  Label  \\\n",
              "0   Eating carbs vs fat matters more when you are...   True   \n",
              "1   Type 2 diabetes is much less serious than type 1  False   \n",
              "2   Type 2 diabetes is not always caused by lack ...  False   \n",
              "3  \\n\\n\\r\\nIf you realize healthy eating is actua...   True   \n",
              "4  \\n\\r\\nReady to turn your world upside down? Fa...   True   \n",
              "\n",
              "                                               final  \n",
              "0  Obesity News and Research  Eating carbs vs fat...  \n",
              "1   Type 2 diabetes is much less serious than typ...  \n",
              "2   Type 2 diabetes is not always caused by lack ...  \n",
              "3  Vitamins and Minerals in Food Items \\n\\n\\r\\nIf...  \n",
              "4  The Skinny on Unsaturated Fats: Why You Need T...  "
            ],
            "text/html": [
              "\n",
              "  <div id=\"df-cece65df-aecb-4974-ab13-7e63664b1d39\">\n",
              "    <div class=\"colab-df-container\">\n",
              "      <div>\n",
              "<style scoped>\n",
              "    .dataframe tbody tr th:only-of-type {\n",
              "        vertical-align: middle;\n",
              "    }\n",
              "\n",
              "    .dataframe tbody tr th {\n",
              "        vertical-align: top;\n",
              "    }\n",
              "\n",
              "    .dataframe thead th {\n",
              "        text-align: right;\n",
              "    }\n",
              "</style>\n",
              "<table border=\"1\" class=\"dataframe\">\n",
              "  <thead>\n",
              "    <tr style=\"text-align: right;\">\n",
              "      <th></th>\n",
              "      <th>Title</th>\n",
              "      <th>Text</th>\n",
              "      <th>Label</th>\n",
              "      <th>final</th>\n",
              "    </tr>\n",
              "  </thead>\n",
              "  <tbody>\n",
              "    <tr>\n",
              "      <th>0</th>\n",
              "      <td>Obesity News and Research</td>\n",
              "      <td>Eating carbs vs fat matters more when you are...</td>\n",
              "      <td>True</td>\n",
              "      <td>Obesity News and Research  Eating carbs vs fat...</td>\n",
              "    </tr>\n",
              "    <tr>\n",
              "      <th>1</th>\n",
              "      <td>Type 2 diabetes is much less serious than type 1</td>\n",
              "      <td>Type 2 diabetes is much less serious than type 1</td>\n",
              "      <td>False</td>\n",
              "      <td>Type 2 diabetes is much less serious than typ...</td>\n",
              "    </tr>\n",
              "    <tr>\n",
              "      <th>2</th>\n",
              "      <td>Type 2 diabetes is not always caused by lack ...</td>\n",
              "      <td>Type 2 diabetes is not always caused by lack ...</td>\n",
              "      <td>False</td>\n",
              "      <td>Type 2 diabetes is not always caused by lack ...</td>\n",
              "    </tr>\n",
              "    <tr>\n",
              "      <th>3</th>\n",
              "      <td>Vitamins and Minerals in Food Items</td>\n",
              "      <td>\\n\\n\\r\\nIf you realize healthy eating is actua...</td>\n",
              "      <td>True</td>\n",
              "      <td>Vitamins and Minerals in Food Items \\n\\n\\r\\nIf...</td>\n",
              "    </tr>\n",
              "    <tr>\n",
              "      <th>4</th>\n",
              "      <td>The Skinny on Unsaturated Fats: Why You Need T...</td>\n",
              "      <td>\\n\\r\\nReady to turn your world upside down? Fa...</td>\n",
              "      <td>True</td>\n",
              "      <td>The Skinny on Unsaturated Fats: Why You Need T...</td>\n",
              "    </tr>\n",
              "  </tbody>\n",
              "</table>\n",
              "</div>\n",
              "      <button class=\"colab-df-convert\" onclick=\"convertToInteractive('df-cece65df-aecb-4974-ab13-7e63664b1d39')\"\n",
              "              title=\"Convert this dataframe to an interactive table.\"\n",
              "              style=\"display:none;\">\n",
              "        \n",
              "  <svg xmlns=\"http://www.w3.org/2000/svg\" height=\"24px\"viewBox=\"0 0 24 24\"\n",
              "       width=\"24px\">\n",
              "    <path d=\"M0 0h24v24H0V0z\" fill=\"none\"/>\n",
              "    <path d=\"M18.56 5.44l.94 2.06.94-2.06 2.06-.94-2.06-.94-.94-2.06-.94 2.06-2.06.94zm-11 1L8.5 8.5l.94-2.06 2.06-.94-2.06-.94L8.5 2.5l-.94 2.06-2.06.94zm10 10l.94 2.06.94-2.06 2.06-.94-2.06-.94-.94-2.06-.94 2.06-2.06.94z\"/><path d=\"M17.41 7.96l-1.37-1.37c-.4-.4-.92-.59-1.43-.59-.52 0-1.04.2-1.43.59L10.3 9.45l-7.72 7.72c-.78.78-.78 2.05 0 2.83L4 21.41c.39.39.9.59 1.41.59.51 0 1.02-.2 1.41-.59l7.78-7.78 2.81-2.81c.8-.78.8-2.07 0-2.86zM5.41 20L4 18.59l7.72-7.72 1.47 1.35L5.41 20z\"/>\n",
              "  </svg>\n",
              "      </button>\n",
              "      \n",
              "  <style>\n",
              "    .colab-df-container {\n",
              "      display:flex;\n",
              "      flex-wrap:wrap;\n",
              "      gap: 12px;\n",
              "    }\n",
              "\n",
              "    .colab-df-convert {\n",
              "      background-color: #E8F0FE;\n",
              "      border: none;\n",
              "      border-radius: 50%;\n",
              "      cursor: pointer;\n",
              "      display: none;\n",
              "      fill: #1967D2;\n",
              "      height: 32px;\n",
              "      padding: 0 0 0 0;\n",
              "      width: 32px;\n",
              "    }\n",
              "\n",
              "    .colab-df-convert:hover {\n",
              "      background-color: #E2EBFA;\n",
              "      box-shadow: 0px 1px 2px rgba(60, 64, 67, 0.3), 0px 1px 3px 1px rgba(60, 64, 67, 0.15);\n",
              "      fill: #174EA6;\n",
              "    }\n",
              "\n",
              "    [theme=dark] .colab-df-convert {\n",
              "      background-color: #3B4455;\n",
              "      fill: #D2E3FC;\n",
              "    }\n",
              "\n",
              "    [theme=dark] .colab-df-convert:hover {\n",
              "      background-color: #434B5C;\n",
              "      box-shadow: 0px 1px 3px 1px rgba(0, 0, 0, 0.15);\n",
              "      filter: drop-shadow(0px 1px 2px rgba(0, 0, 0, 0.3));\n",
              "      fill: #FFFFFF;\n",
              "    }\n",
              "  </style>\n",
              "\n",
              "      <script>\n",
              "        const buttonEl =\n",
              "          document.querySelector('#df-cece65df-aecb-4974-ab13-7e63664b1d39 button.colab-df-convert');\n",
              "        buttonEl.style.display =\n",
              "          google.colab.kernel.accessAllowed ? 'block' : 'none';\n",
              "\n",
              "        async function convertToInteractive(key) {\n",
              "          const element = document.querySelector('#df-cece65df-aecb-4974-ab13-7e63664b1d39');\n",
              "          const dataTable =\n",
              "            await google.colab.kernel.invokeFunction('convertToInteractive',\n",
              "                                                     [key], {});\n",
              "          if (!dataTable) return;\n",
              "\n",
              "          const docLinkHtml = 'Like what you see? Visit the ' +\n",
              "            '<a target=\"_blank\" href=https://colab.research.google.com/notebooks/data_table.ipynb>data table notebook</a>'\n",
              "            + ' to learn more about interactive tables.';\n",
              "          element.innerHTML = '';\n",
              "          dataTable['output_type'] = 'display_data';\n",
              "          await google.colab.output.renderOutput(dataTable, element);\n",
              "          const docLink = document.createElement('div');\n",
              "          docLink.innerHTML = docLinkHtml;\n",
              "          element.appendChild(docLink);\n",
              "        }\n",
              "      </script>\n",
              "    </div>\n",
              "  </div>\n",
              "  "
            ]
          },
          "metadata": {},
          "execution_count": 2
        }
      ]
    },
    {
      "cell_type": "code",
      "metadata": {
        "id": "nlwI60nNcn-O",
        "colab": {
          "base_uri": "https://localhost:8080/",
          "height": 250
        },
        "outputId": "a77a648e-ffb5-47f3-f229-ae6d4acc3a7c"
      },
      "source": [
        "df[\"text_lower\"] = df[\"final\"].str.lower()\n",
        "df.head()"
      ],
      "execution_count": null,
      "outputs": [
        {
          "output_type": "execute_result",
          "data": {
            "text/plain": [
              "                                               Title  \\\n",
              "0                          Obesity News and Research   \n",
              "1   Type 2 diabetes is much less serious than type 1   \n",
              "2   Type 2 diabetes is not always caused by lack ...   \n",
              "3                Vitamins and Minerals in Food Items   \n",
              "4  The Skinny on Unsaturated Fats: Why You Need T...   \n",
              "\n",
              "                                                Text  Label  \\\n",
              "0   Eating carbs vs fat matters more when you are...   True   \n",
              "1   Type 2 diabetes is much less serious than type 1  False   \n",
              "2   Type 2 diabetes is not always caused by lack ...  False   \n",
              "3  \\n\\n\\r\\nIf you realize healthy eating is actua...   True   \n",
              "4  \\n\\r\\nReady to turn your world upside down? Fa...   True   \n",
              "\n",
              "                                               final  \\\n",
              "0  Obesity News and Research  Eating carbs vs fat...   \n",
              "1   Type 2 diabetes is much less serious than typ...   \n",
              "2   Type 2 diabetes is not always caused by lack ...   \n",
              "3  Vitamins and Minerals in Food Items \\n\\n\\r\\nIf...   \n",
              "4  The Skinny on Unsaturated Fats: Why You Need T...   \n",
              "\n",
              "                                          text_lower  \n",
              "0  obesity news and research  eating carbs vs fat...  \n",
              "1   type 2 diabetes is much less serious than typ...  \n",
              "2   type 2 diabetes is not always caused by lack ...  \n",
              "3  vitamins and minerals in food items \\n\\n\\r\\nif...  \n",
              "4  the skinny on unsaturated fats: why you need t...  "
            ],
            "text/html": [
              "\n",
              "  <div id=\"df-9407a857-3024-4e08-929d-7fca3086aa60\">\n",
              "    <div class=\"colab-df-container\">\n",
              "      <div>\n",
              "<style scoped>\n",
              "    .dataframe tbody tr th:only-of-type {\n",
              "        vertical-align: middle;\n",
              "    }\n",
              "\n",
              "    .dataframe tbody tr th {\n",
              "        vertical-align: top;\n",
              "    }\n",
              "\n",
              "    .dataframe thead th {\n",
              "        text-align: right;\n",
              "    }\n",
              "</style>\n",
              "<table border=\"1\" class=\"dataframe\">\n",
              "  <thead>\n",
              "    <tr style=\"text-align: right;\">\n",
              "      <th></th>\n",
              "      <th>Title</th>\n",
              "      <th>Text</th>\n",
              "      <th>Label</th>\n",
              "      <th>final</th>\n",
              "      <th>text_lower</th>\n",
              "    </tr>\n",
              "  </thead>\n",
              "  <tbody>\n",
              "    <tr>\n",
              "      <th>0</th>\n",
              "      <td>Obesity News and Research</td>\n",
              "      <td>Eating carbs vs fat matters more when you are...</td>\n",
              "      <td>True</td>\n",
              "      <td>Obesity News and Research  Eating carbs vs fat...</td>\n",
              "      <td>obesity news and research  eating carbs vs fat...</td>\n",
              "    </tr>\n",
              "    <tr>\n",
              "      <th>1</th>\n",
              "      <td>Type 2 diabetes is much less serious than type 1</td>\n",
              "      <td>Type 2 diabetes is much less serious than type 1</td>\n",
              "      <td>False</td>\n",
              "      <td>Type 2 diabetes is much less serious than typ...</td>\n",
              "      <td>type 2 diabetes is much less serious than typ...</td>\n",
              "    </tr>\n",
              "    <tr>\n",
              "      <th>2</th>\n",
              "      <td>Type 2 diabetes is not always caused by lack ...</td>\n",
              "      <td>Type 2 diabetes is not always caused by lack ...</td>\n",
              "      <td>False</td>\n",
              "      <td>Type 2 diabetes is not always caused by lack ...</td>\n",
              "      <td>type 2 diabetes is not always caused by lack ...</td>\n",
              "    </tr>\n",
              "    <tr>\n",
              "      <th>3</th>\n",
              "      <td>Vitamins and Minerals in Food Items</td>\n",
              "      <td>\\n\\n\\r\\nIf you realize healthy eating is actua...</td>\n",
              "      <td>True</td>\n",
              "      <td>Vitamins and Minerals in Food Items \\n\\n\\r\\nIf...</td>\n",
              "      <td>vitamins and minerals in food items \\n\\n\\r\\nif...</td>\n",
              "    </tr>\n",
              "    <tr>\n",
              "      <th>4</th>\n",
              "      <td>The Skinny on Unsaturated Fats: Why You Need T...</td>\n",
              "      <td>\\n\\r\\nReady to turn your world upside down? Fa...</td>\n",
              "      <td>True</td>\n",
              "      <td>The Skinny on Unsaturated Fats: Why You Need T...</td>\n",
              "      <td>the skinny on unsaturated fats: why you need t...</td>\n",
              "    </tr>\n",
              "  </tbody>\n",
              "</table>\n",
              "</div>\n",
              "      <button class=\"colab-df-convert\" onclick=\"convertToInteractive('df-9407a857-3024-4e08-929d-7fca3086aa60')\"\n",
              "              title=\"Convert this dataframe to an interactive table.\"\n",
              "              style=\"display:none;\">\n",
              "        \n",
              "  <svg xmlns=\"http://www.w3.org/2000/svg\" height=\"24px\"viewBox=\"0 0 24 24\"\n",
              "       width=\"24px\">\n",
              "    <path d=\"M0 0h24v24H0V0z\" fill=\"none\"/>\n",
              "    <path d=\"M18.56 5.44l.94 2.06.94-2.06 2.06-.94-2.06-.94-.94-2.06-.94 2.06-2.06.94zm-11 1L8.5 8.5l.94-2.06 2.06-.94-2.06-.94L8.5 2.5l-.94 2.06-2.06.94zm10 10l.94 2.06.94-2.06 2.06-.94-2.06-.94-.94-2.06-.94 2.06-2.06.94z\"/><path d=\"M17.41 7.96l-1.37-1.37c-.4-.4-.92-.59-1.43-.59-.52 0-1.04.2-1.43.59L10.3 9.45l-7.72 7.72c-.78.78-.78 2.05 0 2.83L4 21.41c.39.39.9.59 1.41.59.51 0 1.02-.2 1.41-.59l7.78-7.78 2.81-2.81c.8-.78.8-2.07 0-2.86zM5.41 20L4 18.59l7.72-7.72 1.47 1.35L5.41 20z\"/>\n",
              "  </svg>\n",
              "      </button>\n",
              "      \n",
              "  <style>\n",
              "    .colab-df-container {\n",
              "      display:flex;\n",
              "      flex-wrap:wrap;\n",
              "      gap: 12px;\n",
              "    }\n",
              "\n",
              "    .colab-df-convert {\n",
              "      background-color: #E8F0FE;\n",
              "      border: none;\n",
              "      border-radius: 50%;\n",
              "      cursor: pointer;\n",
              "      display: none;\n",
              "      fill: #1967D2;\n",
              "      height: 32px;\n",
              "      padding: 0 0 0 0;\n",
              "      width: 32px;\n",
              "    }\n",
              "\n",
              "    .colab-df-convert:hover {\n",
              "      background-color: #E2EBFA;\n",
              "      box-shadow: 0px 1px 2px rgba(60, 64, 67, 0.3), 0px 1px 3px 1px rgba(60, 64, 67, 0.15);\n",
              "      fill: #174EA6;\n",
              "    }\n",
              "\n",
              "    [theme=dark] .colab-df-convert {\n",
              "      background-color: #3B4455;\n",
              "      fill: #D2E3FC;\n",
              "    }\n",
              "\n",
              "    [theme=dark] .colab-df-convert:hover {\n",
              "      background-color: #434B5C;\n",
              "      box-shadow: 0px 1px 3px 1px rgba(0, 0, 0, 0.15);\n",
              "      filter: drop-shadow(0px 1px 2px rgba(0, 0, 0, 0.3));\n",
              "      fill: #FFFFFF;\n",
              "    }\n",
              "  </style>\n",
              "\n",
              "      <script>\n",
              "        const buttonEl =\n",
              "          document.querySelector('#df-9407a857-3024-4e08-929d-7fca3086aa60 button.colab-df-convert');\n",
              "        buttonEl.style.display =\n",
              "          google.colab.kernel.accessAllowed ? 'block' : 'none';\n",
              "\n",
              "        async function convertToInteractive(key) {\n",
              "          const element = document.querySelector('#df-9407a857-3024-4e08-929d-7fca3086aa60');\n",
              "          const dataTable =\n",
              "            await google.colab.kernel.invokeFunction('convertToInteractive',\n",
              "                                                     [key], {});\n",
              "          if (!dataTable) return;\n",
              "\n",
              "          const docLinkHtml = 'Like what you see? Visit the ' +\n",
              "            '<a target=\"_blank\" href=https://colab.research.google.com/notebooks/data_table.ipynb>data table notebook</a>'\n",
              "            + ' to learn more about interactive tables.';\n",
              "          element.innerHTML = '';\n",
              "          dataTable['output_type'] = 'display_data';\n",
              "          await google.colab.output.renderOutput(dataTable, element);\n",
              "          const docLink = document.createElement('div');\n",
              "          docLink.innerHTML = docLinkHtml;\n",
              "          element.appendChild(docLink);\n",
              "        }\n",
              "      </script>\n",
              "    </div>\n",
              "  </div>\n",
              "  "
            ]
          },
          "metadata": {},
          "execution_count": 3
        }
      ]
    },
    {
      "cell_type": "code",
      "metadata": {
        "id": "YRpaj9OocsCy",
        "colab": {
          "base_uri": "https://localhost:8080/"
        },
        "outputId": "421e0044-ad16-4e45-cfaf-046b7165cd71"
      },
      "source": [
        "PUNCT_TO_REMOVE = string.punctuation\n",
        "def remove_punctuation(text):\n",
        "    \"\"\"custom function to remove the punctuation\"\"\"\n",
        "    return text.translate(str.maketrans('', '', PUNCT_TO_REMOVE))\n",
        "\n",
        "df[\"text_wo_punct\"] = df[\"text_lower\"].apply(lambda text: remove_punctuation(text))\n",
        "df[\"text_wo_punct\"].head()"
      ],
      "execution_count": null,
      "outputs": [
        {
          "output_type": "execute_result",
          "data": {
            "text/plain": [
              "0    obesity news and research  eating carbs vs fat...\n",
              "1     type 2 diabetes is much less serious than typ...\n",
              "2     type 2 diabetes is not always caused by lack ...\n",
              "3    vitamins and minerals in food items \\n\\n\\r\\nif...\n",
              "4    the skinny on unsaturated fats why you need th...\n",
              "Name: text_wo_punct, dtype: object"
            ]
          },
          "metadata": {},
          "execution_count": 4
        }
      ]
    },
    {
      "cell_type": "code",
      "metadata": {
        "id": "Krc9j0n1cw-B",
        "colab": {
          "base_uri": "https://localhost:8080/",
          "height": 158
        },
        "outputId": "4c85a695-6e9d-48c8-e173-cd20d9aff8c6"
      },
      "source": [
        "import nltk\n",
        "nltk.download('stopwords')\n",
        "\n",
        "from nltk.corpus import stopwords\n",
        "\", \".join(stopwords.words('english'))\n"
      ],
      "execution_count": null,
      "outputs": [
        {
          "output_type": "stream",
          "name": "stdout",
          "text": [
            "[nltk_data] Downloading package stopwords to /root/nltk_data...\n",
            "[nltk_data]   Unzipping corpora/stopwords.zip.\n"
          ]
        },
        {
          "output_type": "execute_result",
          "data": {
            "text/plain": [
              "\"i, me, my, myself, we, our, ours, ourselves, you, you're, you've, you'll, you'd, your, yours, yourself, yourselves, he, him, his, himself, she, she's, her, hers, herself, it, it's, its, itself, they, them, their, theirs, themselves, what, which, who, whom, this, that, that'll, these, those, am, is, are, was, were, be, been, being, have, has, had, having, do, does, did, doing, a, an, the, and, but, if, or, because, as, until, while, of, at, by, for, with, about, against, between, into, through, during, before, after, above, below, to, from, up, down, in, out, on, off, over, under, again, further, then, once, here, there, when, where, why, how, all, any, both, each, few, more, most, other, some, such, no, nor, not, only, own, same, so, than, too, very, s, t, can, will, just, don, don't, should, should've, now, d, ll, m, o, re, ve, y, ain, aren, aren't, couldn, couldn't, didn, didn't, doesn, doesn't, hadn, hadn't, hasn, hasn't, haven, haven't, isn, isn't, ma, mightn, mightn't, mustn, mustn't, needn, needn't, shan, shan't, shouldn, shouldn't, wasn, wasn't, weren, weren't, won, won't, wouldn, wouldn't\""
            ],
            "application/vnd.google.colaboratory.intrinsic+json": {
              "type": "string"
            }
          },
          "metadata": {},
          "execution_count": 5
        }
      ]
    },
    {
      "cell_type": "code",
      "metadata": {
        "id": "APCPt2JgdBSv",
        "colab": {
          "base_uri": "https://localhost:8080/",
          "height": 337
        },
        "outputId": "bc1f2409-30af-4dac-dacf-a0613a9d5600"
      },
      "source": [
        "\"\"\"custom function to remove the stopwords\"\"\"\n",
        "STOPWORDS = set(stopwords.words('english'))\n",
        "def remove_stopwords(text):\n",
        "    return \" \".join([word for word in str(text).split() if word not in STOPWORDS])\n",
        "\n",
        "df[\"text_wo_stop\"] = df[\"text_wo_punct\"].apply(lambda text: remove_stopwords(text))\n",
        "df.head()"
      ],
      "execution_count": null,
      "outputs": [
        {
          "output_type": "execute_result",
          "data": {
            "text/plain": [
              "                                               Title  \\\n",
              "0                          Obesity News and Research   \n",
              "1   Type 2 diabetes is much less serious than type 1   \n",
              "2   Type 2 diabetes is not always caused by lack ...   \n",
              "3                Vitamins and Minerals in Food Items   \n",
              "4  The Skinny on Unsaturated Fats: Why You Need T...   \n",
              "\n",
              "                                                Text  Label  \\\n",
              "0   Eating carbs vs fat matters more when you are...   True   \n",
              "1   Type 2 diabetes is much less serious than type 1  False   \n",
              "2   Type 2 diabetes is not always caused by lack ...  False   \n",
              "3  \\n\\n\\r\\nIf you realize healthy eating is actua...   True   \n",
              "4  \\n\\r\\nReady to turn your world upside down? Fa...   True   \n",
              "\n",
              "                                               final  \\\n",
              "0  Obesity News and Research  Eating carbs vs fat...   \n",
              "1   Type 2 diabetes is much less serious than typ...   \n",
              "2   Type 2 diabetes is not always caused by lack ...   \n",
              "3  Vitamins and Minerals in Food Items \\n\\n\\r\\nIf...   \n",
              "4  The Skinny on Unsaturated Fats: Why You Need T...   \n",
              "\n",
              "                                          text_lower  \\\n",
              "0  obesity news and research  eating carbs vs fat...   \n",
              "1   type 2 diabetes is much less serious than typ...   \n",
              "2   type 2 diabetes is not always caused by lack ...   \n",
              "3  vitamins and minerals in food items \\n\\n\\r\\nif...   \n",
              "4  the skinny on unsaturated fats: why you need t...   \n",
              "\n",
              "                                       text_wo_punct  \\\n",
              "0  obesity news and research  eating carbs vs fat...   \n",
              "1   type 2 diabetes is much less serious than typ...   \n",
              "2   type 2 diabetes is not always caused by lack ...   \n",
              "3  vitamins and minerals in food items \\n\\n\\r\\nif...   \n",
              "4  the skinny on unsaturated fats why you need th...   \n",
              "\n",
              "                                        text_wo_stop  \n",
              "0  obesity news research eating carbs vs fat matt...  \n",
              "1  type 2 diabetes much less serious type 1 type ...  \n",
              "2  type 2 diabetes always caused lack insulin peo...  \n",
              "3  vitamins minerals food items realize healthy e...  \n",
              "4  skinny unsaturated fats need best sources read...  "
            ],
            "text/html": [
              "\n",
              "  <div id=\"df-52944cda-a750-4401-818e-9aba86fc9735\">\n",
              "    <div class=\"colab-df-container\">\n",
              "      <div>\n",
              "<style scoped>\n",
              "    .dataframe tbody tr th:only-of-type {\n",
              "        vertical-align: middle;\n",
              "    }\n",
              "\n",
              "    .dataframe tbody tr th {\n",
              "        vertical-align: top;\n",
              "    }\n",
              "\n",
              "    .dataframe thead th {\n",
              "        text-align: right;\n",
              "    }\n",
              "</style>\n",
              "<table border=\"1\" class=\"dataframe\">\n",
              "  <thead>\n",
              "    <tr style=\"text-align: right;\">\n",
              "      <th></th>\n",
              "      <th>Title</th>\n",
              "      <th>Text</th>\n",
              "      <th>Label</th>\n",
              "      <th>final</th>\n",
              "      <th>text_lower</th>\n",
              "      <th>text_wo_punct</th>\n",
              "      <th>text_wo_stop</th>\n",
              "    </tr>\n",
              "  </thead>\n",
              "  <tbody>\n",
              "    <tr>\n",
              "      <th>0</th>\n",
              "      <td>Obesity News and Research</td>\n",
              "      <td>Eating carbs vs fat matters more when you are...</td>\n",
              "      <td>True</td>\n",
              "      <td>Obesity News and Research  Eating carbs vs fat...</td>\n",
              "      <td>obesity news and research  eating carbs vs fat...</td>\n",
              "      <td>obesity news and research  eating carbs vs fat...</td>\n",
              "      <td>obesity news research eating carbs vs fat matt...</td>\n",
              "    </tr>\n",
              "    <tr>\n",
              "      <th>1</th>\n",
              "      <td>Type 2 diabetes is much less serious than type 1</td>\n",
              "      <td>Type 2 diabetes is much less serious than type 1</td>\n",
              "      <td>False</td>\n",
              "      <td>Type 2 diabetes is much less serious than typ...</td>\n",
              "      <td>type 2 diabetes is much less serious than typ...</td>\n",
              "      <td>type 2 diabetes is much less serious than typ...</td>\n",
              "      <td>type 2 diabetes much less serious type 1 type ...</td>\n",
              "    </tr>\n",
              "    <tr>\n",
              "      <th>2</th>\n",
              "      <td>Type 2 diabetes is not always caused by lack ...</td>\n",
              "      <td>Type 2 diabetes is not always caused by lack ...</td>\n",
              "      <td>False</td>\n",
              "      <td>Type 2 diabetes is not always caused by lack ...</td>\n",
              "      <td>type 2 diabetes is not always caused by lack ...</td>\n",
              "      <td>type 2 diabetes is not always caused by lack ...</td>\n",
              "      <td>type 2 diabetes always caused lack insulin peo...</td>\n",
              "    </tr>\n",
              "    <tr>\n",
              "      <th>3</th>\n",
              "      <td>Vitamins and Minerals in Food Items</td>\n",
              "      <td>\\n\\n\\r\\nIf you realize healthy eating is actua...</td>\n",
              "      <td>True</td>\n",
              "      <td>Vitamins and Minerals in Food Items \\n\\n\\r\\nIf...</td>\n",
              "      <td>vitamins and minerals in food items \\n\\n\\r\\nif...</td>\n",
              "      <td>vitamins and minerals in food items \\n\\n\\r\\nif...</td>\n",
              "      <td>vitamins minerals food items realize healthy e...</td>\n",
              "    </tr>\n",
              "    <tr>\n",
              "      <th>4</th>\n",
              "      <td>The Skinny on Unsaturated Fats: Why You Need T...</td>\n",
              "      <td>\\n\\r\\nReady to turn your world upside down? Fa...</td>\n",
              "      <td>True</td>\n",
              "      <td>The Skinny on Unsaturated Fats: Why You Need T...</td>\n",
              "      <td>the skinny on unsaturated fats: why you need t...</td>\n",
              "      <td>the skinny on unsaturated fats why you need th...</td>\n",
              "      <td>skinny unsaturated fats need best sources read...</td>\n",
              "    </tr>\n",
              "  </tbody>\n",
              "</table>\n",
              "</div>\n",
              "      <button class=\"colab-df-convert\" onclick=\"convertToInteractive('df-52944cda-a750-4401-818e-9aba86fc9735')\"\n",
              "              title=\"Convert this dataframe to an interactive table.\"\n",
              "              style=\"display:none;\">\n",
              "        \n",
              "  <svg xmlns=\"http://www.w3.org/2000/svg\" height=\"24px\"viewBox=\"0 0 24 24\"\n",
              "       width=\"24px\">\n",
              "    <path d=\"M0 0h24v24H0V0z\" fill=\"none\"/>\n",
              "    <path d=\"M18.56 5.44l.94 2.06.94-2.06 2.06-.94-2.06-.94-.94-2.06-.94 2.06-2.06.94zm-11 1L8.5 8.5l.94-2.06 2.06-.94-2.06-.94L8.5 2.5l-.94 2.06-2.06.94zm10 10l.94 2.06.94-2.06 2.06-.94-2.06-.94-.94-2.06-.94 2.06-2.06.94z\"/><path d=\"M17.41 7.96l-1.37-1.37c-.4-.4-.92-.59-1.43-.59-.52 0-1.04.2-1.43.59L10.3 9.45l-7.72 7.72c-.78.78-.78 2.05 0 2.83L4 21.41c.39.39.9.59 1.41.59.51 0 1.02-.2 1.41-.59l7.78-7.78 2.81-2.81c.8-.78.8-2.07 0-2.86zM5.41 20L4 18.59l7.72-7.72 1.47 1.35L5.41 20z\"/>\n",
              "  </svg>\n",
              "      </button>\n",
              "      \n",
              "  <style>\n",
              "    .colab-df-container {\n",
              "      display:flex;\n",
              "      flex-wrap:wrap;\n",
              "      gap: 12px;\n",
              "    }\n",
              "\n",
              "    .colab-df-convert {\n",
              "      background-color: #E8F0FE;\n",
              "      border: none;\n",
              "      border-radius: 50%;\n",
              "      cursor: pointer;\n",
              "      display: none;\n",
              "      fill: #1967D2;\n",
              "      height: 32px;\n",
              "      padding: 0 0 0 0;\n",
              "      width: 32px;\n",
              "    }\n",
              "\n",
              "    .colab-df-convert:hover {\n",
              "      background-color: #E2EBFA;\n",
              "      box-shadow: 0px 1px 2px rgba(60, 64, 67, 0.3), 0px 1px 3px 1px rgba(60, 64, 67, 0.15);\n",
              "      fill: #174EA6;\n",
              "    }\n",
              "\n",
              "    [theme=dark] .colab-df-convert {\n",
              "      background-color: #3B4455;\n",
              "      fill: #D2E3FC;\n",
              "    }\n",
              "\n",
              "    [theme=dark] .colab-df-convert:hover {\n",
              "      background-color: #434B5C;\n",
              "      box-shadow: 0px 1px 3px 1px rgba(0, 0, 0, 0.15);\n",
              "      filter: drop-shadow(0px 1px 2px rgba(0, 0, 0, 0.3));\n",
              "      fill: #FFFFFF;\n",
              "    }\n",
              "  </style>\n",
              "\n",
              "      <script>\n",
              "        const buttonEl =\n",
              "          document.querySelector('#df-52944cda-a750-4401-818e-9aba86fc9735 button.colab-df-convert');\n",
              "        buttonEl.style.display =\n",
              "          google.colab.kernel.accessAllowed ? 'block' : 'none';\n",
              "\n",
              "        async function convertToInteractive(key) {\n",
              "          const element = document.querySelector('#df-52944cda-a750-4401-818e-9aba86fc9735');\n",
              "          const dataTable =\n",
              "            await google.colab.kernel.invokeFunction('convertToInteractive',\n",
              "                                                     [key], {});\n",
              "          if (!dataTable) return;\n",
              "\n",
              "          const docLinkHtml = 'Like what you see? Visit the ' +\n",
              "            '<a target=\"_blank\" href=https://colab.research.google.com/notebooks/data_table.ipynb>data table notebook</a>'\n",
              "            + ' to learn more about interactive tables.';\n",
              "          element.innerHTML = '';\n",
              "          dataTable['output_type'] = 'display_data';\n",
              "          await google.colab.output.renderOutput(dataTable, element);\n",
              "          const docLink = document.createElement('div');\n",
              "          docLink.innerHTML = docLinkHtml;\n",
              "          element.appendChild(docLink);\n",
              "        }\n",
              "      </script>\n",
              "    </div>\n",
              "  </div>\n",
              "  "
            ]
          },
          "metadata": {},
          "execution_count": 6
        }
      ]
    },
    {
      "cell_type": "code",
      "metadata": {
        "id": "ZUYDycYXdIPP",
        "colab": {
          "base_uri": "https://localhost:8080/"
        },
        "outputId": "7ded4644-4c15-4e39-83a1-057498f9c068"
      },
      "source": [
        "##Either stemming or lemmatization\n",
        "\n",
        "nltk.download('wordnet')\n",
        "nltk.download('averaged_perceptron_tagger')\n",
        "\n",
        "from nltk.corpus import wordnet\n",
        "from nltk.stem import WordNetLemmatizer\n",
        "\n",
        "lemmatizer = WordNetLemmatizer()\n",
        "wordnet_map = {\"N\":wordnet.NOUN, \"V\":wordnet.VERB, \"J\":wordnet.ADJ, \"R\":wordnet.ADV}\n",
        "def lemmatize_words(text):\n",
        "    pos_tagged_text = nltk.pos_tag(text.split())\n",
        "    return \" \".join([lemmatizer.lemmatize(word, wordnet_map.get(pos[0], wordnet.NOUN)) for word, pos in pos_tagged_text])\n",
        "\n",
        "df[\"text_lemmatized\"] = df[\"text_wo_stop\"].apply(lambda text: lemmatize_words(text))\n",
        "#df[\"text_lemmatized\"].pos_tagged_text.head()\n",
        "df[\"text_lemmatized\"].head()"
      ],
      "execution_count": null,
      "outputs": [
        {
          "output_type": "stream",
          "name": "stdout",
          "text": [
            "[nltk_data] Downloading package wordnet to /root/nltk_data...\n",
            "[nltk_data]   Unzipping corpora/wordnet.zip.\n",
            "[nltk_data] Downloading package averaged_perceptron_tagger to\n",
            "[nltk_data]     /root/nltk_data...\n",
            "[nltk_data]   Unzipping taggers/averaged_perceptron_tagger.zip.\n"
          ]
        },
        {
          "output_type": "execute_result",
          "data": {
            "text/plain": [
              "0    obesity news research eat carbs v fat matter t...\n",
              "1    type 2 diabetes much less serious type 1 type ...\n",
              "2    type 2 diabetes always cause lack insulin peop...\n",
              "3    vitamin mineral food item realize healthy eat ...\n",
              "4    skinny unsaturated fat need best source ready ...\n",
              "Name: text_lemmatized, dtype: object"
            ]
          },
          "metadata": {},
          "execution_count": 7
        }
      ]
    },
    {
      "cell_type": "code",
      "metadata": {
        "id": "qY78ZMrKdPih",
        "colab": {
          "base_uri": "https://localhost:8080/",
          "height": 780
        },
        "outputId": "d99f1390-7bda-419f-be70-8477654d0f14"
      },
      "source": [
        "from sklearn.preprocessing import LabelEncoder\n",
        "df[\"encoded_cat\"]=LabelEncoder().fit_transform(df.Label)\n",
        "df"
      ],
      "execution_count": null,
      "outputs": [
        {
          "output_type": "execute_result",
          "data": {
            "text/plain": [
              "                                                 Title  \\\n",
              "0                            Obesity News and Research   \n",
              "1     Type 2 diabetes is much less serious than type 1   \n",
              "2     Type 2 diabetes is not always caused by lack ...   \n",
              "3                  Vitamins and Minerals in Food Items   \n",
              "4    The Skinny on Unsaturated Fats: Why You Need T...   \n",
              "..                                                 ...   \n",
              "499                                   CBD and Diabetes   \n",
              "500                     Please Dont Cut His Leg Off   \n",
              "501                     Please Dont Cut His Leg Off   \n",
              "502                     Please Dont Cut His Leg Off   \n",
              "503  Your diabetes is probably getting worse if you...   \n",
              "\n",
              "                                                  Text  Label  \\\n",
              "0     Eating carbs vs fat matters more when you are...   True   \n",
              "1     Type 2 diabetes is much less serious than type 1  False   \n",
              "2     Type 2 diabetes is not always caused by lack ...  False   \n",
              "3    \\n\\n\\r\\nIf you realize healthy eating is actua...   True   \n",
              "4    \\n\\r\\nReady to turn your world upside down? Fa...   True   \n",
              "..                                                 ...    ...   \n",
              "499  You may have heard about using CBD to treat di...   True   \n",
              "500  You Only Need To Add A Powerful Blend Of\\nPhyt...  False   \n",
              "501  Youll Need To Combine Them In Specific Amount...  False   \n",
              "502  Youre About To See Exactly How To Reverse You...  False   \n",
              "503  Your diabetes is probably getting worse if you...  False   \n",
              "\n",
              "                                                 final  \\\n",
              "0    Obesity News and Research  Eating carbs vs fat...   \n",
              "1     Type 2 diabetes is much less serious than typ...   \n",
              "2     Type 2 diabetes is not always caused by lack ...   \n",
              "3    Vitamins and Minerals in Food Items \\n\\n\\r\\nIf...   \n",
              "4    The Skinny on Unsaturated Fats: Why You Need T...   \n",
              "..                                                 ...   \n",
              "499  CBD and Diabetes You may have heard about usin...   \n",
              "500  Please Dont Cut His Leg Off You Only Need T...   \n",
              "501  Please Dont Cut His Leg Off Youll Need To ...   \n",
              "502  Please Dont Cut His Leg Off Youre About To...   \n",
              "503  Your diabetes is probably getting worse if you...   \n",
              "\n",
              "                                            text_lower  \\\n",
              "0    obesity news and research  eating carbs vs fat...   \n",
              "1     type 2 diabetes is much less serious than typ...   \n",
              "2     type 2 diabetes is not always caused by lack ...   \n",
              "3    vitamins and minerals in food items \\n\\n\\r\\nif...   \n",
              "4    the skinny on unsaturated fats: why you need t...   \n",
              "..                                                 ...   \n",
              "499  cbd and diabetes you may have heard about usin...   \n",
              "500  please dont cut his leg off you only need t...   \n",
              "501  please dont cut his leg off youll need to ...   \n",
              "502  please dont cut his leg off youre about to...   \n",
              "503  your diabetes is probably getting worse if you...   \n",
              "\n",
              "                                         text_wo_punct  \\\n",
              "0    obesity news and research  eating carbs vs fat...   \n",
              "1     type 2 diabetes is much less serious than typ...   \n",
              "2     type 2 diabetes is not always caused by lack ...   \n",
              "3    vitamins and minerals in food items \\n\\n\\r\\nif...   \n",
              "4    the skinny on unsaturated fats why you need th...   \n",
              "..                                                 ...   \n",
              "499  cbd and diabetes you may have heard about usin...   \n",
              "500  please dont cut his leg off you only need t...   \n",
              "501  please dont cut his leg off youll need to ...   \n",
              "502  please dont cut his leg off youre about to...   \n",
              "503  your diabetes is probably getting worse if you...   \n",
              "\n",
              "                                          text_wo_stop  \\\n",
              "0    obesity news research eating carbs vs fat matt...   \n",
              "1    type 2 diabetes much less serious type 1 type ...   \n",
              "2    type 2 diabetes always caused lack insulin peo...   \n",
              "3    vitamins minerals food items realize healthy e...   \n",
              "4    skinny unsaturated fats need best sources read...   \n",
              "..                                                 ...   \n",
              "499  cbd diabetes may heard using cbd treat diabete...   \n",
              "500  please dont cut leg off need add powerful b...   \n",
              "501  please dont cut leg off youll need combine...   \n",
              "502  please dont cut leg off youre see exactly ...   \n",
              "503  diabetes probably getting worse insulin dosage...   \n",
              "\n",
              "                                       text_lemmatized  encoded_cat  \n",
              "0    obesity news research eat carbs v fat matter t...            1  \n",
              "1    type 2 diabetes much less serious type 1 type ...            0  \n",
              "2    type 2 diabetes always cause lack insulin peop...            0  \n",
              "3    vitamin mineral food item realize healthy eat ...            1  \n",
              "4    skinny unsaturated fat need best source ready ...            1  \n",
              "..                                                 ...          ...  \n",
              "499  cbd diabetes may hear use cbd treat diabetes c...            1  \n",
              "500  please dont cut leg off need add powerful b...            0  \n",
              "501  please dont cut leg off youll need combine...            0  \n",
              "502  please dont cut leg off youre see exactly ...            0  \n",
              "503  diabetes probably get bad insulin dosage raise...            0  \n",
              "\n",
              "[504 rows x 9 columns]"
            ],
            "text/html": [
              "\n",
              "  <div id=\"df-71129c52-8382-4ca3-8969-e9af520b35c7\">\n",
              "    <div class=\"colab-df-container\">\n",
              "      <div>\n",
              "<style scoped>\n",
              "    .dataframe tbody tr th:only-of-type {\n",
              "        vertical-align: middle;\n",
              "    }\n",
              "\n",
              "    .dataframe tbody tr th {\n",
              "        vertical-align: top;\n",
              "    }\n",
              "\n",
              "    .dataframe thead th {\n",
              "        text-align: right;\n",
              "    }\n",
              "</style>\n",
              "<table border=\"1\" class=\"dataframe\">\n",
              "  <thead>\n",
              "    <tr style=\"text-align: right;\">\n",
              "      <th></th>\n",
              "      <th>Title</th>\n",
              "      <th>Text</th>\n",
              "      <th>Label</th>\n",
              "      <th>final</th>\n",
              "      <th>text_lower</th>\n",
              "      <th>text_wo_punct</th>\n",
              "      <th>text_wo_stop</th>\n",
              "      <th>text_lemmatized</th>\n",
              "      <th>encoded_cat</th>\n",
              "    </tr>\n",
              "  </thead>\n",
              "  <tbody>\n",
              "    <tr>\n",
              "      <th>0</th>\n",
              "      <td>Obesity News and Research</td>\n",
              "      <td>Eating carbs vs fat matters more when you are...</td>\n",
              "      <td>True</td>\n",
              "      <td>Obesity News and Research  Eating carbs vs fat...</td>\n",
              "      <td>obesity news and research  eating carbs vs fat...</td>\n",
              "      <td>obesity news and research  eating carbs vs fat...</td>\n",
              "      <td>obesity news research eating carbs vs fat matt...</td>\n",
              "      <td>obesity news research eat carbs v fat matter t...</td>\n",
              "      <td>1</td>\n",
              "    </tr>\n",
              "    <tr>\n",
              "      <th>1</th>\n",
              "      <td>Type 2 diabetes is much less serious than type 1</td>\n",
              "      <td>Type 2 diabetes is much less serious than type 1</td>\n",
              "      <td>False</td>\n",
              "      <td>Type 2 diabetes is much less serious than typ...</td>\n",
              "      <td>type 2 diabetes is much less serious than typ...</td>\n",
              "      <td>type 2 diabetes is much less serious than typ...</td>\n",
              "      <td>type 2 diabetes much less serious type 1 type ...</td>\n",
              "      <td>type 2 diabetes much less serious type 1 type ...</td>\n",
              "      <td>0</td>\n",
              "    </tr>\n",
              "    <tr>\n",
              "      <th>2</th>\n",
              "      <td>Type 2 diabetes is not always caused by lack ...</td>\n",
              "      <td>Type 2 diabetes is not always caused by lack ...</td>\n",
              "      <td>False</td>\n",
              "      <td>Type 2 diabetes is not always caused by lack ...</td>\n",
              "      <td>type 2 diabetes is not always caused by lack ...</td>\n",
              "      <td>type 2 diabetes is not always caused by lack ...</td>\n",
              "      <td>type 2 diabetes always caused lack insulin peo...</td>\n",
              "      <td>type 2 diabetes always cause lack insulin peop...</td>\n",
              "      <td>0</td>\n",
              "    </tr>\n",
              "    <tr>\n",
              "      <th>3</th>\n",
              "      <td>Vitamins and Minerals in Food Items</td>\n",
              "      <td>\\n\\n\\r\\nIf you realize healthy eating is actua...</td>\n",
              "      <td>True</td>\n",
              "      <td>Vitamins and Minerals in Food Items \\n\\n\\r\\nIf...</td>\n",
              "      <td>vitamins and minerals in food items \\n\\n\\r\\nif...</td>\n",
              "      <td>vitamins and minerals in food items \\n\\n\\r\\nif...</td>\n",
              "      <td>vitamins minerals food items realize healthy e...</td>\n",
              "      <td>vitamin mineral food item realize healthy eat ...</td>\n",
              "      <td>1</td>\n",
              "    </tr>\n",
              "    <tr>\n",
              "      <th>4</th>\n",
              "      <td>The Skinny on Unsaturated Fats: Why You Need T...</td>\n",
              "      <td>\\n\\r\\nReady to turn your world upside down? Fa...</td>\n",
              "      <td>True</td>\n",
              "      <td>The Skinny on Unsaturated Fats: Why You Need T...</td>\n",
              "      <td>the skinny on unsaturated fats: why you need t...</td>\n",
              "      <td>the skinny on unsaturated fats why you need th...</td>\n",
              "      <td>skinny unsaturated fats need best sources read...</td>\n",
              "      <td>skinny unsaturated fat need best source ready ...</td>\n",
              "      <td>1</td>\n",
              "    </tr>\n",
              "    <tr>\n",
              "      <th>...</th>\n",
              "      <td>...</td>\n",
              "      <td>...</td>\n",
              "      <td>...</td>\n",
              "      <td>...</td>\n",
              "      <td>...</td>\n",
              "      <td>...</td>\n",
              "      <td>...</td>\n",
              "      <td>...</td>\n",
              "      <td>...</td>\n",
              "    </tr>\n",
              "    <tr>\n",
              "      <th>499</th>\n",
              "      <td>CBD and Diabetes</td>\n",
              "      <td>You may have heard about using CBD to treat di...</td>\n",
              "      <td>True</td>\n",
              "      <td>CBD and Diabetes You may have heard about usin...</td>\n",
              "      <td>cbd and diabetes you may have heard about usin...</td>\n",
              "      <td>cbd and diabetes you may have heard about usin...</td>\n",
              "      <td>cbd diabetes may heard using cbd treat diabete...</td>\n",
              "      <td>cbd diabetes may hear use cbd treat diabetes c...</td>\n",
              "      <td>1</td>\n",
              "    </tr>\n",
              "    <tr>\n",
              "      <th>500</th>\n",
              "      <td>Please Dont Cut His Leg Off</td>\n",
              "      <td>You Only Need To Add A Powerful Blend Of\\nPhyt...</td>\n",
              "      <td>False</td>\n",
              "      <td>Please Dont Cut His Leg Off You Only Need T...</td>\n",
              "      <td>please dont cut his leg off you only need t...</td>\n",
              "      <td>please dont cut his leg off you only need t...</td>\n",
              "      <td>please dont cut leg off need add powerful b...</td>\n",
              "      <td>please dont cut leg off need add powerful b...</td>\n",
              "      <td>0</td>\n",
              "    </tr>\n",
              "    <tr>\n",
              "      <th>501</th>\n",
              "      <td>Please Dont Cut His Leg Off</td>\n",
              "      <td>Youll Need To Combine Them In Specific Amount...</td>\n",
              "      <td>False</td>\n",
              "      <td>Please Dont Cut His Leg Off Youll Need To ...</td>\n",
              "      <td>please dont cut his leg off youll need to ...</td>\n",
              "      <td>please dont cut his leg off youll need to ...</td>\n",
              "      <td>please dont cut leg off youll need combine...</td>\n",
              "      <td>please dont cut leg off youll need combine...</td>\n",
              "      <td>0</td>\n",
              "    </tr>\n",
              "    <tr>\n",
              "      <th>502</th>\n",
              "      <td>Please Dont Cut His Leg Off</td>\n",
              "      <td>Youre About To See Exactly How To Reverse You...</td>\n",
              "      <td>False</td>\n",
              "      <td>Please Dont Cut His Leg Off Youre About To...</td>\n",
              "      <td>please dont cut his leg off youre about to...</td>\n",
              "      <td>please dont cut his leg off youre about to...</td>\n",
              "      <td>please dont cut leg off youre see exactly ...</td>\n",
              "      <td>please dont cut leg off youre see exactly ...</td>\n",
              "      <td>0</td>\n",
              "    </tr>\n",
              "    <tr>\n",
              "      <th>503</th>\n",
              "      <td>Your diabetes is probably getting worse if you...</td>\n",
              "      <td>Your diabetes is probably getting worse if you...</td>\n",
              "      <td>False</td>\n",
              "      <td>Your diabetes is probably getting worse if you...</td>\n",
              "      <td>your diabetes is probably getting worse if you...</td>\n",
              "      <td>your diabetes is probably getting worse if you...</td>\n",
              "      <td>diabetes probably getting worse insulin dosage...</td>\n",
              "      <td>diabetes probably get bad insulin dosage raise...</td>\n",
              "      <td>0</td>\n",
              "    </tr>\n",
              "  </tbody>\n",
              "</table>\n",
              "<p>504 rows × 9 columns</p>\n",
              "</div>\n",
              "      <button class=\"colab-df-convert\" onclick=\"convertToInteractive('df-71129c52-8382-4ca3-8969-e9af520b35c7')\"\n",
              "              title=\"Convert this dataframe to an interactive table.\"\n",
              "              style=\"display:none;\">\n",
              "        \n",
              "  <svg xmlns=\"http://www.w3.org/2000/svg\" height=\"24px\"viewBox=\"0 0 24 24\"\n",
              "       width=\"24px\">\n",
              "    <path d=\"M0 0h24v24H0V0z\" fill=\"none\"/>\n",
              "    <path d=\"M18.56 5.44l.94 2.06.94-2.06 2.06-.94-2.06-.94-.94-2.06-.94 2.06-2.06.94zm-11 1L8.5 8.5l.94-2.06 2.06-.94-2.06-.94L8.5 2.5l-.94 2.06-2.06.94zm10 10l.94 2.06.94-2.06 2.06-.94-2.06-.94-.94-2.06-.94 2.06-2.06.94z\"/><path d=\"M17.41 7.96l-1.37-1.37c-.4-.4-.92-.59-1.43-.59-.52 0-1.04.2-1.43.59L10.3 9.45l-7.72 7.72c-.78.78-.78 2.05 0 2.83L4 21.41c.39.39.9.59 1.41.59.51 0 1.02-.2 1.41-.59l7.78-7.78 2.81-2.81c.8-.78.8-2.07 0-2.86zM5.41 20L4 18.59l7.72-7.72 1.47 1.35L5.41 20z\"/>\n",
              "  </svg>\n",
              "      </button>\n",
              "      \n",
              "  <style>\n",
              "    .colab-df-container {\n",
              "      display:flex;\n",
              "      flex-wrap:wrap;\n",
              "      gap: 12px;\n",
              "    }\n",
              "\n",
              "    .colab-df-convert {\n",
              "      background-color: #E8F0FE;\n",
              "      border: none;\n",
              "      border-radius: 50%;\n",
              "      cursor: pointer;\n",
              "      display: none;\n",
              "      fill: #1967D2;\n",
              "      height: 32px;\n",
              "      padding: 0 0 0 0;\n",
              "      width: 32px;\n",
              "    }\n",
              "\n",
              "    .colab-df-convert:hover {\n",
              "      background-color: #E2EBFA;\n",
              "      box-shadow: 0px 1px 2px rgba(60, 64, 67, 0.3), 0px 1px 3px 1px rgba(60, 64, 67, 0.15);\n",
              "      fill: #174EA6;\n",
              "    }\n",
              "\n",
              "    [theme=dark] .colab-df-convert {\n",
              "      background-color: #3B4455;\n",
              "      fill: #D2E3FC;\n",
              "    }\n",
              "\n",
              "    [theme=dark] .colab-df-convert:hover {\n",
              "      background-color: #434B5C;\n",
              "      box-shadow: 0px 1px 3px 1px rgba(0, 0, 0, 0.15);\n",
              "      filter: drop-shadow(0px 1px 2px rgba(0, 0, 0, 0.3));\n",
              "      fill: #FFFFFF;\n",
              "    }\n",
              "  </style>\n",
              "\n",
              "      <script>\n",
              "        const buttonEl =\n",
              "          document.querySelector('#df-71129c52-8382-4ca3-8969-e9af520b35c7 button.colab-df-convert');\n",
              "        buttonEl.style.display =\n",
              "          google.colab.kernel.accessAllowed ? 'block' : 'none';\n",
              "\n",
              "        async function convertToInteractive(key) {\n",
              "          const element = document.querySelector('#df-71129c52-8382-4ca3-8969-e9af520b35c7');\n",
              "          const dataTable =\n",
              "            await google.colab.kernel.invokeFunction('convertToInteractive',\n",
              "                                                     [key], {});\n",
              "          if (!dataTable) return;\n",
              "\n",
              "          const docLinkHtml = 'Like what you see? Visit the ' +\n",
              "            '<a target=\"_blank\" href=https://colab.research.google.com/notebooks/data_table.ipynb>data table notebook</a>'\n",
              "            + ' to learn more about interactive tables.';\n",
              "          element.innerHTML = '';\n",
              "          dataTable['output_type'] = 'display_data';\n",
              "          await google.colab.output.renderOutput(dataTable, element);\n",
              "          const docLink = document.createElement('div');\n",
              "          docLink.innerHTML = docLinkHtml;\n",
              "          element.appendChild(docLink);\n",
              "        }\n",
              "      </script>\n",
              "    </div>\n",
              "  </div>\n",
              "  "
            ]
          },
          "metadata": {},
          "execution_count": 8
        }
      ]
    },
    {
      "cell_type": "code",
      "metadata": {
        "id": "ap0IBSGWdU_y"
      },
      "source": [
        "\n",
        "\n",
        "from sklearn.feature_extraction.text import CountVectorizer\n",
        "cv = CountVectorizer(max_features = 1500)\n",
        "X = cv.fit_transform(df[\"text_lemmatized\"]).toarray()\n",
        "#y = dataset.iloc[:, -1].values"
      ],
      "execution_count": null,
      "outputs": []
    },
    {
      "cell_type": "code",
      "metadata": {
        "id": "FMlcYNofdbQH",
        "colab": {
          "base_uri": "https://localhost:8080/"
        },
        "outputId": "e6b5d9d2-5dd0-4e6b-b470-1acfda9ac0ca"
      },
      "source": [
        "\n",
        "y=df[\"encoded_cat\"]\n",
        "y.head()"
      ],
      "execution_count": null,
      "outputs": [
        {
          "output_type": "execute_result",
          "data": {
            "text/plain": [
              "0    1\n",
              "1    0\n",
              "2    0\n",
              "3    1\n",
              "4    1\n",
              "Name: encoded_cat, dtype: int64"
            ]
          },
          "metadata": {},
          "execution_count": 11
        }
      ]
    },
    {
      "cell_type": "code",
      "metadata": {
        "id": "5jaA0HGpde2H",
        "colab": {
          "base_uri": "https://localhost:8080/"
        },
        "outputId": "8bf177fe-6fd5-4a24-e0f3-357252047531"
      },
      "source": [
        "from sklearn.model_selection import train_test_split\n",
        "\n",
        "x_train,x_test,y_train,y_test = train_test_split(X,y,test_size=0.2)\n",
        "\n",
        "print(x_train.shape)\n",
        "print(x_test.shape)\n",
        "print(y_train.shape)\n",
        "print(y_test.shape)\n"
      ],
      "execution_count": null,
      "outputs": [
        {
          "output_type": "stream",
          "name": "stdout",
          "text": [
            "(403, 1500)\n",
            "(101, 1500)\n",
            "(403,)\n",
            "(101,)\n"
          ]
        }
      ]
    },
    {
      "cell_type": "code",
      "source": [
        "import matplotlib.pyplot as plt\n",
        "import seaborn as sns\n",
        "\n",
        "sns.countplot(df.Label)\n",
        "plt.title('Data Distribution')\n",
        "plt.xlabel('categories')\n",
        "plt.ylabel('values')\n",
        "plt.show()"
      ],
      "metadata": {
        "colab": {
          "base_uri": "https://localhost:8080/",
          "height": 350
        },
        "id": "-XGTDHfRClnk",
        "outputId": "37a3c393-ef9e-467d-f7aa-b08d0ab2b801"
      },
      "execution_count": null,
      "outputs": [
        {
          "output_type": "stream",
          "name": "stderr",
          "text": [
            "/usr/local/lib/python3.7/dist-packages/seaborn/_decorators.py:43: FutureWarning: Pass the following variable as a keyword arg: x. From version 0.12, the only valid positional argument will be `data`, and passing other arguments without an explicit keyword will result in an error or misinterpretation.\n",
            "  FutureWarning\n"
          ]
        },
        {
          "output_type": "display_data",
          "data": {
            "text/plain": [
              "<Figure size 432x288 with 1 Axes>"
            ],
            "image/png": "[encoded data removed]"
          },
          "metadata": {
            "needs_background": "light"
          }
        }
      ]
    },
    {
      "cell_type": "code",
      "source": [
        "from wordcloud import WordCloud\n",
        "wc = WordCloud()\n",
        "wc.generate(' '.join(df['text_lemmatized']))\n",
        "plt.imshow(wc, interpolation=\"bilinear\")\n",
        "plt.axis('off')\n",
        "plt.show()"
      ],
      "metadata": {
        "colab": {
          "base_uri": "https://localhost:8080/",
          "height": 198
        },
        "id": "9_tMl9_DJlKM",
        "outputId": "d3c6c44e-4ca7-4eab-cb30-92b30fd6f6c1"
      },
      "execution_count": null,
      "outputs": [
        {
          "output_type": "display_data",
          "data": {
            "text/plain": [
              "<Figure size 432x288 with 1 Axes>"
            ],
            "image/png": "[encoded data removed]"
          },
          "metadata": {
            "needs_background": "light"
          }
        }
      ]
    },
    {
      "cell_type": "code",
      "metadata": {
        "id": "xxQD0EDWdmgK",
        "colab": {
          "base_uri": "https://localhost:8080/"
        },
        "outputId": "382a67df-7497-4c10-e87d-26f178d2a5cd"
      },
      "source": [
        "from sklearn.svm import SVC\n",
        "classifier = SVC(kernel = 'linear', random_state = 0)\n",
        "classifier.fit(x_train, y_train)"
      ],
      "execution_count": null,
      "outputs": [
        {
          "output_type": "execute_result",
          "data": {
            "text/plain": [
              "SVC(kernel='linear', random_state=0)"
            ]
          },
          "metadata": {},
          "execution_count": 15
        }
      ]
    },
    {
      "cell_type": "code",
      "source": [
        "#import numpy as np\n",
        "\n",
        "y_pred = classifier.predict(x_test)\n"
      ],
      "metadata": {
        "id": "R880rR9XNQL6"
      },
      "execution_count": null,
      "outputs": []
    },
    {
      "cell_type": "code",
      "source": [
        "\n",
        "from sklearn.metrics import confusion_matrix, accuracy_score\n",
        "cm = confusion_matrix(y_test, y_pred)\n",
        "print(cm)\n",
        "accuracy_score(y_test, y_pred)\n"
      ],
      "metadata": {
        "colab": {
          "base_uri": "https://localhost:8080/"
        },
        "id": "_zJpOuVEJbGx",
        "outputId": "467df787-02f9-4756-df16-de8bc7129209"
      },
      "execution_count": null,
      "outputs": [
        {
          "output_type": "stream",
          "name": "stdout",
          "text": [
            "[[38  3]\n",
            " [11 49]]\n"
          ]
        },
        {
          "output_type": "execute_result",
          "data": {
            "text/plain": [
              "0.8613861386138614"
            ]
          },
          "metadata": {},
          "execution_count": 17
        }
      ]
    }
  ]
}